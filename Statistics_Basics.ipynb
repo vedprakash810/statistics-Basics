{
  "nbformat": 4,
  "nbformat_minor": 0,
  "metadata": {
    "colab": {
      "provenance": []
    },
    "kernelspec": {
      "name": "python3",
      "display_name": "Python 3"
    },
    "language_info": {
      "name": "python"
    }
  },
  "cells": [
    {
      "cell_type": "code",
      "execution_count": null,
      "metadata": {
        "id": "LbMKrJgMXbpY"
      },
      "outputs": [],
      "source": []
    },
    {
      "cell_type": "markdown",
      "source": [
        "1. Explain the different types of data (qualitative and quantitative) and provide examples of each. Discuss nominal, ordinal, interval, and ratio scales.\n",
        "\n",
        "Ans- Qualitative Data:\n",
        "\n",
        "Describes qualities or characteristics that cannot be measured numerically, often represented by labels or categories.\n",
        "Examples: Eye color (blue, brown, green), gender (male, female), type of car (sedan, SUV, truck), or opinions (yes, no, maybe).\n",
        "\n",
        "Quantitative Data:\n",
        "Represents numerical values that can be measured or counted.\n",
        "Examples: Height (in cm), weight (in kg), age (in years), or temperature (in Celsius).\n",
        "\n",
        " Scales of Measurement:\n",
        "\n",
        "Nominal Scale:\n",
        "Data are categorized into mutually exclusive groups without any inherent order or ranking.\n",
        "Examples: Types of fruits (apple, banana, orange), colors (red, blue, green), or religions (Christian, Muslim, Buddhist).\n",
        "\n",
        "Ordinal Scale:\n",
        "Data can be categorized and ranked, but the intervals between categories may not be equal.\n",
        "Examples: Educational levels (high school, bachelor's, master's), rankings in a race (1st, 2nd, 3rd), or customer satisfaction (very dissatisfied, dissatisfied, neutral, satisfied, very satisfied).\n",
        "\n",
        "Interval Scale:\n",
        "Data have equal intervals between values, but there is no true zero point (zero doesn't indicate the absence of the attribute).\n",
        "Examples: Temperature in Celsius or Fahrenheit, calendar years.\n",
        "\n",
        "Ratio Scale:\n",
        "Data have equal intervals and a true zero point (zero indicates the absence of the attribute).\n",
        "Examples: Height, weight, age, or distance."
      ],
      "metadata": {
        "id": "LnEg-9OzX0X2"
      }
    },
    {
      "cell_type": "markdown",
      "source": [
        "2. What are the measures of central tendency, and when should you use each? Discuss the mean, median, and mode with examples and situations where each is appropriate.\n",
        "\n",
        "Ans- Central Tendencies in Statistics are the numerical values that are used to represent mid-value or central value a large collection of numerical data.\n",
        "\n",
        "Mean:\n",
        "\n",
        "Mean in general terms is used for the arithmetic mean of the data, but other than the arithmetic mean there are geometric mean and harmonic mean as well that are calculated using different formulas. Here in this article, we will discuss the arithmetic mean.\n",
        "\n",
        "Example: If there are 5 observations, which are 27, 11, 17, 19, and 21 then the mean (\n",
        "\n",
        "x\n",
        "ˉ\n",
        " ) is given by\n",
        "\n",
        "\n",
        "x\n",
        "  = (27 + 11 + 17 + 19 + 21) ÷ 5\n",
        "\n",
        "\n",
        "\n",
        "⇒\n",
        "x\n",
        " = 95 ÷ 5\n",
        "\n",
        "\n",
        "⇒\n",
        "x\n",
        "  = 19\n",
        "\n",
        "  Median:\n",
        "Median of any distribution is that value that divides the distribution into two equal parts such that the number of observations above it is equal to the number of observations below it. Thus, the median is called the central value of any given data either grouped or ungrouped.\n",
        "Example 1: If the observations are 25, 36, 31, 23, 22, 26, 38, 28, 20, 32 then the Median is given by\n",
        "\n",
        "Arranging the data in ascending order: 20, 22, 23, 25, 26, 28, 31, 32, 36, 38\n",
        "\n",
        "\n",
        "N = 10 which is even then\n",
        "\n",
        "\n",
        "Median = Arithmetic mean of values at (10 ÷ 2)th and [(10 ÷ 2) + 1]th position\n",
        "\n",
        "\n",
        "⇒ Median = (Value at 5th position + Value at 6th position) ÷ 2\n",
        "\n",
        "\n",
        "⇒ Median = (26 + 28) ÷ 2\n",
        "\n",
        "\n",
        "⇒ Median = 27\n",
        "\n",
        "Mode:\n",
        "Mode is the value of that observation which has a maximum frequency corresponding to it. In other, that observation of the data occurs the maximum number of times in a dataset.\n",
        "Example: Find the mode of the dataset which is given as follows.\n",
        "\n",
        "Class Interval\t10-20\t20-30\t30-40\t40-50\t50-60\n",
        "Frequency\t5\t8\t12\t16\t10\n",
        "Solution:\n",
        "\n",
        "As the class interval with the highest frequency is 40-50, which has a frequency of 16. Thus, 40-50 is the modal class.\n",
        "\n",
        "\n",
        "Thus, l  = 40 , h = 10 , f1 = 16 , f0 = 12 , f2 = 10\n",
        "\n",
        "\n",
        "Plugging in the values in formula\n",
        "M\n",
        "o\n",
        "d\n",
        "e\n",
        "=\n",
        "l\n",
        "+\n",
        "[\n",
        "f\n",
        "1\n",
        "−\n",
        "f\n",
        "0\n",
        "2\n",
        "f\n",
        "1\n",
        "−\n",
        "f\n",
        "0\n",
        "−\n",
        "f\n",
        "2\n",
        "]\n",
        "×\n",
        "h\n",
        "             \n",
        "Mode=l+[\n",
        "2f\n",
        "1\n",
        "​\n",
        " −f\n",
        "0\n",
        "​\n",
        " −f\n",
        "2\n",
        "​\n",
        "\n",
        "f\n",
        "1\n",
        "​\n",
        " −f\n",
        "0\n",
        "​\n",
        "\n",
        "​\n",
        " ]×h , we get\n",
        "\n",
        "\n",
        "Mode = 40 + (16 – 12)/(2 × 16 – 12 – 10) × 10\n",
        "\n",
        "\n",
        "⇒ Mode = 40 + (4/10)×10\n",
        "\n",
        "\n",
        "⇒ Mode = 40 + 4\n",
        "\n",
        "\n",
        "⇒ Mode = 44\n",
        "\n",
        "\n",
        "Therefore, the mode for this set of data is 44.\n",
        "\n",
        "\n"
      ],
      "metadata": {
        "id": "O0AzhBReZWQ5"
      }
    },
    {
      "cell_type": "markdown",
      "source": [
        "3. Explain the concept of dispersion. How do variance and standard deviation measure the spread of data?\n",
        "\n",
        "Ans- Dispersion:\n",
        "Dispersion describes the degree to which data points are spread out or clustered around the average value (mean).\n",
        "\n",
        "Variance:\n",
        "Variance measures the average of the squared differences from the mean, indicating how much the data points deviate from the average.\n",
        "\n",
        "Standard Deviation:\n",
        "Standard deviation is the square root of the variance, providing a measure of the typical distance of data points from the mean, in the same units as the original data.\n"
      ],
      "metadata": {
        "id": "qTa4u7npdEsO"
      }
    },
    {
      "cell_type": "markdown",
      "source": [
        "4. What is a box plot, and what can it tell you about the distribution of data?\n",
        "\n",
        "Ans-Box Plot is a graphical method to visualize data distribution for gaining insights and making informed decisions. Box plot is a type of chart that depicts a group of numerical data through their quartiles.\n",
        "5. Discuss the role of random sampling in making inferences about populations.\n",
        "\n",
        "Ans- Random sampling is crucial for making valid inferences about a population because it helps ensure the sample is representative, minimizing bias and allowing researchers to generalize findings from the sample to the larger group with a higher degree of confidence."
      ],
      "metadata": {
        "id": "lQ3lHFkweIv8"
      }
    },
    {
      "cell_type": "markdown",
      "source": [
        "6. Explain the concept of skewness and its types. How does skewness affect the interpretation of data?\n",
        "\n",
        "Ans-Skewness, a statistical measure, describes the asymmetry of a data distribution, indicating whether the data leans towards one side more than the other. It has positive (right-skewed), negative (left-skewed), and zero (symmetrical) types, impacting the interpretation of data by affecting measures like the mean and median.\n",
        "\n",
        "Types of Skewness:\n",
        "Positive Skewness (Right Skewness):\n",
        "The tail of the distribution extends towards the higher values, meaning the majority of data points are clustered on the left side, and there are some extreme values on the right.\n",
        "\n",
        "Visual Representation: A distribution with a longer tail on the right side.\n",
        "Impact on Mean, Median, and Mode: Mean > Median > Mode.\n",
        "\n",
        "Negative Skewness (Left Skewness):\n",
        "The tail of the distribution extends towards the lower values, meaning the majority of data points are clustered on the right side, and there are some extreme values on the left.\n",
        "\n",
        "Zero Skewness (Symmetrical):\n",
        "The distribution is symmetrical, with the left and right sides being mirror images of each other.\n",
        "\n",
        "How Skewness Affects Data Interpretation:\n",
        "Impact on Central Tendency:\n",
        "Skewness can distort the mean, making it less representative of the \"typical\" value in a skewed distribution.\n",
        "In a positively skewed distribution, the mean is pulled towards the higher values, while in a negatively skewed distribution, the mean is pulled towards the lower values.\n",
        "\n",
        "Outlier Identification:\n",
        "Skewness highlights the presence of outliers, which can significantly influence the mean and other statistical measures.\n",
        "\n",
        "Statistical Analysis:\n",
        "Skewness can affect the choice of statistical tests, as some tests (parametric tests) assume a normal distribution, which is not suitable for skewed data.\n",
        "For skewed data, non-parametric tests, which do not assume a normal distribution, may be more appropriate.\n",
        "\n",
        "Data Transformation:\n",
        "In some cases, data transformation techniques (e.g., logarithmic transformation) can be used to reduce skewness and make the data more suitable for certain statistical analyses."
      ],
      "metadata": {
        "id": "GAvY5TYzf1sR"
      }
    },
    {
      "cell_type": "markdown",
      "source": [
        "7. What is the interquartile range (IQR), and how is it used to detect outliers?\n",
        "\n",
        "Ans- The Interquartile Range (IQR) measures the spread of the middle 50% of a dataset, calculated as the difference between the third quartile (Q3) and the first quartile (Q1).\n",
        " It's used to detect outliers by establishing \"fences\" (Q1 - 1.5IQR and Q3 + 1.5IQR), with any data point falling outside these fences considered an outlier."
      ],
      "metadata": {
        "id": "7onkgF1yhCM9"
      }
    },
    {
      "cell_type": "markdown",
      "source": [
        "8. Discuss the conditions under which the binomial distribution is used.\n",
        "\n",
        "Ans- The binomial distribution is used when you have a fixed number of independent trials, each with only two possible outcomes (success or failure), and the probability of success remains constant across all trials."
      ],
      "metadata": {
        "id": "gy7IVhnVhvfZ"
      }
    },
    {
      "cell_type": "markdown",
      "source": [
        "9. Explain the properties of the normal distribution and the empirical rule (68-95-99.7 rule).\n",
        "\n",
        "Ans- The normal distribution is a continuous probability distribution, bell-shaped and symmetrical around the mean, with the empirical rule (68-95-99.7 rule) stating that approximately 68% of data falls within one standard deviation, 95% within two, and 99.7% within three standard deviations of the mean."
      ],
      "metadata": {
        "id": "mDnS2TbDiEhi"
      }
    },
    {
      "cell_type": "markdown",
      "source": [
        "10. Provide a real-life example of a Poisson process and calculate the probability for a specific event.\n",
        "\n",
        "Ans- A real-life example of a Poisson process is the number of customers arriving at a grocery store checkout counter per minute, and the probability of a specific event (e.g., 3 customers arriving in the next minute) can be calculated using the Poisson distribution formula.\n"
      ],
      "metadata": {
        "id": "0E8w53RjiiEI"
      }
    },
    {
      "cell_type": "markdown",
      "source": [
        "11. Explain what a random variable is and differentiate between discrete and continuous random variables.\n",
        "\n",
        "Ans- A random variable is a variable whose value is a numerical outcome of a random phenomenon, and it can be either discrete (countable values) or continuous (values within a range).\n",
        "\n",
        "A discrete random variable can only take on a finite or countably infinite number of values.\n",
        "\n",
        "A continuous random variable can take on any value within a given range or interval."
      ],
      "metadata": {
        "id": "2PxnmVyUi3_A"
      }
    },
    {
      "cell_type": "markdown",
      "source": [
        "12. Provide an example dataset, calculate both covariance and correlation, and interpret the results.\n",
        "\n",
        "Ans-Example Dataset:\n",
        "Imagine you're tracking the daily rainfall (in millimeters) and the number of umbrellas sold at a local shop over a week:\n",
        "Day\n",
        "Rainfall (mm)\n",
        "Umbrellas Sold\n",
        "1\n",
        "5\n",
        "12\n",
        "2\n",
        "10\n",
        "20\n",
        "3\n",
        "0\n",
        "5\n",
        "4\n",
        "2\n",
        "8\n",
        "5\n",
        "8\n",
        "18\n",
        "6\n",
        "3\n",
        "9\n",
        "7\n",
        "12\n",
        "22\n",
        " Calculate the Mean for Each Variable:\n",
        "Rainfall: (5 + 10 + 0 + 2 + 8 + 3 + 12) / 7 = 5.57 mm (approximately)\n",
        "Umbrellas Sold: (12 + 20 + 5 + 8 + 18 + 9 + 22) / 7 = 14.86 (approximately)\n",
        "\n",
        " Calculate the Covariance:\n",
        "Step 1:\n",
        "Subtract the mean from each data point for both variables.\n",
        "Rainfall: [5-5.57, 10-5.57, 0-5.57, 2-5.57, 8-5.57, 3-5.57, 12-5.57] = [-0.57, 4.43, -5.57, -3.57, 2.43, -2.57, 6.43]\n",
        "Umbrellas Sold: [12-14.86, 20-14.86, 5-14.86, 8-14.86, 18-14.86, 9-14.86, 22-14.86] = [-2.86, 5.14, -9.86, -6.86, 3.14, -5.86, 7.14]\n",
        "Step 2:\n",
        "Multiply the corresponding differences and sum them.\n",
        "(-0.57 * -2.86) + (4.43 * 5.14) + (-5.57 * -9.86) + (-3.57 * -6.86) + (2.43 * 3.14) + (-2.57 * -5.86) + (6.43 * 7.14) = 1.62 + 22.81 + 54.95 + 24.49 + 7.63 + 15.04 + 45.89 = 162.49\n",
        "Step 3:\n",
        "Divide the sum by (n-1) where n is the number of data points.\n",
        "Covariance = 162.49 / (7-1) = 162.49 / 6 = 27.08\n",
        "\n",
        " Calculate the Correlation Coefficient (Pearson's Correlation):\n",
        "Step 1:\n",
        "Calculate the standard deviation for each variable.\n",
        "Rainfall: Standard Deviation = sqrt(sum((x-mean)^2) / (n-1)) = sqrt(162.49 / 6) = sqrt(27.08) = 5.20\n",
        "Umbrellas Sold: Standard Deviation = sqrt(sum((y-mean)^2) / (n-1)) = sqrt(162.49 / 6) = sqrt(27.08) = 5.20\n",
        "Step 2:\n",
        "Divide the covariance by the product of the standard deviations.\n",
        "Correlation = Covariance / (Standard Deviation_Rainfall * Standard Deviation_Umbrellas) = 27.08 / (5.20 * 5.20) = 27.08 / 27.04 = 1.001\n",
        "\n",
        " Interpretation:\n",
        "Covariance: A positive covariance (27.08) indicates that as rainfall increases, the number of umbrellas sold tends to increase as well. This makes intuitive sense."
      ],
      "metadata": {
        "id": "Jju0wrnmjtsf"
      }
    }
  ]
}